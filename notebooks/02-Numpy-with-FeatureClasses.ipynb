{
 "cells": [
  {
   "cell_type": "markdown",
   "metadata": {},
   "source": [
    "## Using NumPy with ArcGIS: *FeatureClass to NumPy Arrays*\n",
    "\n",
    "This notebook demonstrates how NumPy facilitates manipulation of feature class attribute data. By no means is this an in-depth introduction, let alone discussion, of NumPy, but it does at least familiarize you with what NumPy is about and how it can be used with ArcGIS feature classes. The links below provide more in-depth reading on NumPy and how it's used with feature classes.\n",
    "\n",
    "Resources:\n",
    "* https://jakevdp.github.io/PythonDataScienceHandbook/index.html#2.-Introduction-to-NumPy\n",
    "* http://pro.arcgis.com/en/pro-app/arcpy/data-access/featureclasstonumpyarray.htm"
   ]
  },
  {
   "cell_type": "code",
   "execution_count": 1,
   "metadata": {},
   "outputs": [],
   "source": [
    "#Import arcpy and numpy\n",
    "import arcpy\n",
    "import numpy as np"
   ]
  },
  {
   "cell_type": "code",
   "execution_count": 2,
   "metadata": {},
   "outputs": [
    {
     "name": "stdout",
     "output_type": "stream",
     "text": [
      "True\n"
     ]
    }
   ],
   "source": [
    "#Point to the HUC12.shp feature class in the Data folder (ensure it exists)\n",
    "huc12_fc = '../Data/HUC12.shp'\n",
    "print (arcpy.Exists(huc12_fc))"
   ]
  },
  {
   "cell_type": "markdown",
   "metadata": {},
   "source": [
    "* Here,we convert the feature class to a NumPy array using ArcPy's [`FeatureClassToNumPyArray`](http://pro.arcgis.com/en/pro-app/arcpy/data-access/featureclasstonumpyarray.htm) function. "
   ]
  },
  {
   "cell_type": "code",
   "execution_count": 3,
   "metadata": {},
   "outputs": [],
   "source": [
    "#List the fields we want to convert\n",
    "fieldList = [\"SHAPE@XY\",\"HUC_8\",\"HUC_12\",\"ACRES\"]\n",
    "arrHUCS = arcpy.da.FeatureClassToNumPyArray(huc12_fc,fieldList)"
   ]
  },
  {
   "cell_type": "code",
   "execution_count": 4,
   "metadata": {},
   "outputs": [
    {
     "name": "stdout",
     "output_type": "stream",
     "text": [
      "<class 'numpy.ndarray'>\n"
     ]
    }
   ],
   "source": [
    "#Display the type of the returned object\n",
    "print (type(arrHUCS))"
   ]
  },
  {
   "cell_type": "markdown",
   "metadata": {},
   "source": [
    "* As a NumPy array, we can do different operations on the feature class. But first, let's inspect the array's properties. "
   ]
  },
  {
   "cell_type": "code",
   "execution_count": 5,
   "metadata": {},
   "outputs": [],
   "source": [
    "#Reveal documentation on the ndarray object\n",
    "arrHUCS?"
   ]
  },
  {
   "cell_type": "code",
   "execution_count": 6,
   "metadata": {},
   "outputs": [
    {
     "data": {
      "text/plain": [
       "210"
      ]
     },
     "execution_count": 6,
     "metadata": {},
     "output_type": "execute_result"
    }
   ],
   "source": [
    "#How many records does it contain\n",
    "arrHUCS.size"
   ]
  },
  {
   "cell_type": "code",
   "execution_count": 7,
   "metadata": {},
   "outputs": [
    {
     "name": "stdout",
     "output_type": "stream",
     "text": [
      "[('SHAPE@XY', '<f8', (2,)), ('HUC_8', '<U8'), ('HUC_12', '<U12'), ('ACRES', '<f8')]\n"
     ]
    }
   ],
   "source": [
    "#What are the data types stored in this array\n",
    "print (arrHUCS.dtype)"
   ]
  },
  {
   "cell_type": "code",
   "execution_count": 8,
   "metadata": {},
   "outputs": [
    {
     "name": "stdout",
     "output_type": "stream",
     "text": [
      "('SHAPE@XY', 'HUC_8', 'HUC_12', 'ACRES')\n"
     ]
    }
   ],
   "source": [
    "#Or, just what are the names of the \"columns\"\n",
    "print (arrHUCS.dtype.names)"
   ]
  },
  {
   "cell_type": "markdown",
   "metadata": {},
   "source": [
    "In looking at the data types, you notice that this NumPy array actually has multiple data types.\n",
    "\n",
    "\n",
    "The ndarray object is actually a specific type of NumPy array - a **structured array**. (See https://jakevdp.github.io/PythonDataScienceHandbook/02.09-structured-data-numpy.html) A *structured array* is really just a collection of individual ndarrays, all of the same length, with each individual ndarray referenced by a field name. In other words, it's structured much like an attribute table where each field/column is it's own ndarray. \n",
    "\n",
    "Our `arrHUCs` structured array has 4 embedded \"sub\" arrays with the names `SHAPE@XY`, `HUC_8`, `HUC_12`, and `ACRES`)"
   ]
  },
  {
   "cell_type": "markdown",
   "metadata": {},
   "source": [
    "Now, let's see what we can do with this..."
   ]
  },
  {
   "cell_type": "markdown",
   "metadata": {},
   "source": [
    "* Numpy arrays allow **slicing**, much like familiar Python lists, enabling us to quickly nab subsets of data. "
   ]
  },
  {
   "cell_type": "code",
   "execution_count": 9,
   "metadata": {},
   "outputs": [
    {
     "name": "stdout",
     "output_type": "stream",
     "text": [
      "([-79.93890576,  35.48508838], '03040103', '030401030503', 15414.)\n"
     ]
    }
   ],
   "source": [
    "#Show the first row of data\n",
    "print (arrHUCS[0])     "
   ]
  },
  {
   "cell_type": "code",
   "execution_count": 10,
   "metadata": {},
   "outputs": [
    {
     "name": "stdout",
     "output_type": "stream",
     "text": [
      "[([-79.93890576,  35.48508838], '03040103', '030401030503', 15414.)\n",
      " ([-80.10361823,  35.47440895], '03040103', '030401030605', 42390.)\n",
      " ([-80.39449973,  35.87133309], '03040101', '030401011503', 32998.)\n",
      " ([-80.50179609,  35.89937972], '03040101', '030401011404', 29297.)\n",
      " ([-80.35986875,  34.82920682], '03040104', '030401040101', 14822.)]\n"
     ]
    }
   ],
   "source": [
    "#Show all data from the first 5 rows of data\n",
    "print (arrHUCS[0:5])     "
   ]
  },
  {
   "cell_type": "code",
   "execution_count": 11,
   "metadata": {},
   "outputs": [
    {
     "name": "stdout",
     "output_type": "stream",
     "text": [
      "03040104\n"
     ]
    }
   ],
   "source": [
    "#Show the value of the 5th row in the `HUC_8' field\n",
    "print (arrHUCS[4]['HUC_8'])"
   ]
  },
  {
   "cell_type": "code",
   "execution_count": 12,
   "metadata": {},
   "outputs": [
    {
     "name": "stdout",
     "output_type": "stream",
     "text": [
      "['030401030503' '030401030605' '030401011503' '030401011404'\n",
      " '030401040101' '030401050602' '030401050603' '030401040102'\n",
      " '030401010802' '030401010804' '030401010703' '030401010701'\n",
      " '030401050307' '030401040505' '030401040402' '030401040401'\n",
      " '030401050305' '030401050405' '030401050403' '030401040204'\n",
      " '030401040202' '030401050304' '030401040306' '030401040305'\n",
      " '030401050105' '030401050401' '030401040201' '030401050201'\n",
      " '030401050404' '030401050402' '030401030505' '030401050203'\n",
      " '030401040303' '030401050303' '030401010603' '030401010303'\n",
      " '030401010304' '030401010306' '030401010403' '030401011302'\n",
      " '030401011001' '030401011002' '030401011005' '030401011006'\n",
      " '030401010904' '030401011004' '030401010104' '030401010202'\n",
      " '030401050702' '030401050306' '030401050601' '030401050502'\n",
      " '030401050501' '030401050504' '030401050503' '030401050506'\n",
      " '030401050701' '030401050704' '030401040301' '030401030105'\n",
      " '030401020504' '030401030601' '030401020304' '030401030207'\n",
      " '030401020402' '030401020403' '030401020401' '030401020301'\n",
      " '030401030406' '030401020603' '030401030304' '030401020108'\n",
      " '030401030103' '030401011504' '030401020103' '030401020109'\n",
      " '030401020601' '030401030403' '030401030206' '030401030401'\n",
      " '030401030104' '030401020206' '030401030204' '030401020102'\n",
      " '030401020105' '030401010103' '030401030404' '030401020107'\n",
      " '030401020101' '030401020602' '030401011502' '030401030402'\n",
      " '030401020106' '030401030205' '030401010201' '030401020104'\n",
      " '030401010203' '030401011308' '030401011403' '030401020205'\n",
      " '030401011402' '030401011401' '030401020204' '030401010301'\n",
      " '030401030201' '030401010206' '030401020201' '030401030203'\n",
      " '030401020203' '030401011501' '030401010307' '030401010302'\n",
      " '030401011103' '030401010401' '030401011307' '030401020202'\n",
      " '030401011203' '030401010407' '030401011303' '030401011305'\n",
      " '030401011306' '030401030202' '030401011101' '030401030603'\n",
      " '030401050202' '030401040304' '030401030604' '030401030504'\n",
      " '030401040302' '030401030303' '030401020503' '030401030502'\n",
      " '030401030101' '030401030301' '030401030302' '030401030305'\n",
      " '030401030501' '030401030102' '030401030405' '030401010803'\n",
      " '030401010805' '030401010801' '030401050406' '030401040203'\n",
      " '030401030602' '030401040103' '030401050505' '030401040501'\n",
      " '030401040506' '030401050604' '030401050706' '030401050507'\n",
      " '030401040502' '030401040205' '030401040504' '030401040403'\n",
      " '030401050708' '030401050703' '030401040404' '030401050707'\n",
      " '030401010105' '030401010102' '030401010101' '030401020501'\n",
      " '030401050302' '030401050106' '030401050102' '030401020502'\n",
      " '030401020302' '030401050301' '030401050103' '030401050101'\n",
      " '030401050104' '030401020303' '030401011301' '030401011007'\n",
      " '030401010601' '030401010204' '030401010402' '030401010205'\n",
      " '030401010305' '030401010602' '030401011202' '030401010605'\n",
      " '030401011102' '030401010406' '030401011201' '030401010606'\n",
      " '030401010607' '030401040104' '030401040105' '030401040503'\n",
      " '030401050705' '030401011304' '030401010604' '030401010404'\n",
      " '030401010503' '030401010502' '030401010705' '030401010405'\n",
      " '030401010903' '030401011003' '030401010504' '030401010702'\n",
      " '030401010501' '030401010704' '030401010806' '030401010902'\n",
      " '030401010901' '030401010807']\n"
     ]
    }
   ],
   "source": [
    "#List all the HUC12s in the dataset\n",
    "print (arrHUCS['HUC_12'])"
   ]
  },
  {
   "cell_type": "markdown",
   "metadata": {},
   "source": [
    "* We can also do rapid calculations with the data..."
   ]
  },
  {
   "cell_type": "code",
   "execution_count": 13,
   "metadata": {},
   "outputs": [
    {
     "name": "stdout",
     "output_type": "stream",
     "text": [
      "20493.65411175457\n"
     ]
    }
   ],
   "source": [
    "#List the mean area of all HUCs\n",
    "print (arrHUCS['ACRES'].mean())"
   ]
  },
  {
   "cell_type": "markdown",
   "metadata": {},
   "source": [
    "#### Subsetting data with NumPy\n",
    "We can also subset records in our array which we will do as a two step process. \n",
    "1. First we create a boolean **mask array**, that is an array of true and false values where a record is true if a condition is met. \n",
    "2. Then we **apply this mask** to our original array to isolate records where the mask is true"
   ]
  },
  {
   "cell_type": "code",
   "execution_count": 14,
   "metadata": {},
   "outputs": [
    {
     "data": {
      "text/plain": [
       "array([ True,  True, False, False, False, False, False, False, False,\n",
       "       False])"
      ]
     },
     "execution_count": 14,
     "metadata": {},
     "output_type": "execute_result"
    }
   ],
   "source": [
    "#First we make a boolean mask and show the first 10 records\n",
    "arrMask = (arrHUCS[\"HUC_8\"] == '03040103')\n",
    "arrMask[:10]"
   ]
  },
  {
   "cell_type": "code",
   "execution_count": 15,
   "metadata": {},
   "outputs": [],
   "source": [
    "#Now we apply the mask to isolate record where this is true\n",
    "arrSelectedHUC8 = arrHUCS[arrMask]"
   ]
  },
  {
   "cell_type": "code",
   "execution_count": 16,
   "metadata": {},
   "outputs": [
    {
     "name": "stdout",
     "output_type": "stream",
     "text": [
      "33\n"
     ]
    }
   ],
   "source": [
    "#The original array had 201 records, how many records does this have? \n",
    "print (arrSelectedHUC8.size)"
   ]
  },
  {
   "cell_type": "code",
   "execution_count": 17,
   "metadata": {},
   "outputs": [
    {
     "data": {
      "text/plain": [
       "([-80.21336519,  35.79472106], '03040103', '030401030206', 19941.)"
      ]
     },
     "execution_count": 17,
     "metadata": {},
     "output_type": "execute_result"
    }
   ],
   "source": [
    "#Print the 11th row of our selected records\n",
    "arrSelectedHUC8[10]"
   ]
  },
  {
   "cell_type": "code",
   "execution_count": 18,
   "metadata": {},
   "outputs": [
    {
     "data": {
      "text/plain": [
       "23075.121212121212"
      ]
     },
     "execution_count": 18,
     "metadata": {},
     "output_type": "execute_result"
    }
   ],
   "source": [
    "#Calculate the mean area of these HUCs\n",
    "arrSelectedHUC8['ACRES'].mean()"
   ]
  },
  {
   "cell_type": "code",
   "execution_count": 19,
   "metadata": {},
   "outputs": [],
   "source": [
    "#Plot a historam of HUC_12 areas\n",
    "%matplotlib inline\n",
    "import matplotlib.pyplot as plt\n",
    "#import seaborn; seaborn.set()  # set plot style"
   ]
  },
  {
   "cell_type": "code",
   "execution_count": 20,
   "metadata": {},
   "outputs": [
    {
     "data": {
      "image/png": "[encoded data removed]",
      "text/plain": [
       "<Figure size 432x288 with 1 Axes>"
      ]
     },
     "metadata": {},
     "output_type": "display_data"
    }
   ],
   "source": [
    "plt.hist(arrHUCS['ACRES']);\n",
    "plt.title('Area Distribution of HUC_12s')\n",
    "plt.xlabel('Area (acres)')\n",
    "plt.ylabel('number');"
   ]
  },
  {
   "cell_type": "markdown",
   "metadata": {},
   "source": [
    "### Recap\n",
    "Converting our feature attribute table to a NumPy array opens the door to some rapid computations using NumPy's speedy capabilities - a vast improvment over using arcpy's cursor objects!"
   ]
  },
  {
   "cell_type": "code",
   "execution_count": null,
   "metadata": {},
   "outputs": [],
   "source": []
  }
 ],
 "metadata": {
  "kernelspec": {
   "display_name": "Python 3",
   "language": "python",
   "name": "python3"
  },
  "language_info": {
   "codemirror_mode": {
    "name": "ipython",
    "version": 3
   },
   "file_extension": ".py",
   "mimetype": "text/x-python",
   "name": "python",
   "nbconvert_exporter": "python",
   "pygments_lexer": "ipython3",
   "version": "3.6.5"
  }
 },
 "nbformat": 4,
 "nbformat_minor": 2
}
